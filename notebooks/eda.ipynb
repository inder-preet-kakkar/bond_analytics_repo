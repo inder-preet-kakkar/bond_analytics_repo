{
 "cells": [
  {
   "cell_type": "markdown",
   "id": "f35525c4-4f76-41a6-b9d7-7bbd8e69383d",
   "metadata": {},
   "source": [
    "# Introduction - Exploratory Data Analysis\n",
    "\n",
    "The Election Commission of India released two pdf files with details of electoral bond buyers and recipients (cshers) respectively. These were essentially tables with the data as ordered by the Supreme Court of India. This notebook is work in progress but can help you dig deeper into the dataset."
   ]
  },
  {
   "cell_type": "markdown",
   "id": "3d735a67-1da2-4e8e-b2f1-9d17c05e1e19",
   "metadata": {},
   "source": [
    "# Install libraries"
   ]
  },
  {
   "cell_type": "code",
   "execution_count": 12,
   "id": "35dea8f1-4ca8-4e58-900f-918da9fea9d1",
   "metadata": {},
   "outputs": [
    {
     "name": "stdout",
     "output_type": "stream",
     "text": [
      "Requirement already satisfied: pandas in /Users/inder/Desktop/electoral_bond/bond_analytics_repo/venv/lib/python3.9/site-packages (2.2.1)\n",
      "Requirement already satisfied: plotly in /Users/inder/Library/Python/3.9/lib/python/site-packages (5.13.1)\n",
      "Requirement already satisfied: numpy<2,>=1.22.4 in /Users/inder/Library/Python/3.9/lib/python/site-packages (from pandas) (1.26.3)\n",
      "Requirement already satisfied: tzdata>=2022.7 in /Users/inder/Library/Python/3.9/lib/python/site-packages (from pandas) (2023.4)\n",
      "Requirement already satisfied: pytz>=2020.1 in /Users/inder/Library/Python/3.9/lib/python/site-packages (from pandas) (2024.1)\n",
      "Requirement already satisfied: python-dateutil>=2.8.2 in /Users/inder/Library/Python/3.9/lib/python/site-packages (from pandas) (2.8.2)\n",
      "Requirement already satisfied: tenacity>=6.2.0 in /Users/inder/Library/Python/3.9/lib/python/site-packages (from plotly) (8.2.2)\n",
      "Requirement already satisfied: six>=1.5 in /Library/Developer/CommandLineTools/Library/Frameworks/Python3.framework/Versions/3.9/lib/python3.9/site-packages (from python-dateutil>=2.8.2->pandas) (1.15.0)\n",
      "\n",
      "\u001b[1m[\u001b[0m\u001b[34;49mnotice\u001b[0m\u001b[1;39;49m]\u001b[0m\u001b[39;49m A new release of pip available: \u001b[0m\u001b[31;49m22.3.1\u001b[0m\u001b[39;49m -> \u001b[0m\u001b[32;49m24.0\u001b[0m\n",
      "\u001b[1m[\u001b[0m\u001b[34;49mnotice\u001b[0m\u001b[1;39;49m]\u001b[0m\u001b[39;49m To update, run: \u001b[0m\u001b[32;49mpip install --upgrade pip\u001b[0m\n"
     ]
    }
   ],
   "source": [
    "!pip install pandas plotly"
   ]
  },
  {
   "cell_type": "markdown",
   "id": "9ee1f69f-4bf2-4a54-b5c4-1c74524f7c3e",
   "metadata": {},
   "source": [
    "# Loading libraries"
   ]
  },
  {
   "cell_type": "code",
   "execution_count": 13,
   "id": "6973f603-063f-4719-948b-13cb9f34c81b",
   "metadata": {},
   "outputs": [],
   "source": [
    "import os\n",
    "import pandas as pd\n",
    "import plotly.graph_objects as go\n",
    "import plotly.io as pio\n",
    "pio.renderers.default = \"browser\""
   ]
  },
  {
   "cell_type": "markdown",
   "id": "cae1355e-cfcb-471e-a6b5-e5ac07871c6b",
   "metadata": {},
   "source": [
    "# Loading bond buyers data"
   ]
  },
  {
   "cell_type": "code",
   "execution_count": 14,
   "id": "fb79f3ce-f182-4cdf-9414-1f753038b498",
   "metadata": {
    "scrolled": true
   },
   "outputs": [
    {
     "data": {
      "text/html": [
       "<div>\n",
       "<style scoped>\n",
       "    .dataframe tbody tr th:only-of-type {\n",
       "        vertical-align: middle;\n",
       "    }\n",
       "\n",
       "    .dataframe tbody tr th {\n",
       "        vertical-align: top;\n",
       "    }\n",
       "\n",
       "    .dataframe thead th {\n",
       "        text-align: right;\n",
       "    }\n",
       "</style>\n",
       "<table border=\"1\" class=\"dataframe\">\n",
       "  <thead>\n",
       "    <tr style=\"text-align: right;\">\n",
       "      <th></th>\n",
       "      <th>Reference No  (URN)</th>\n",
       "      <th>Journal Date</th>\n",
       "      <th>Date of Purchase</th>\n",
       "      <th>Date of Expiry</th>\n",
       "      <th>Name of the Purchaser</th>\n",
       "      <th>Prefix</th>\n",
       "      <th>Bond Number</th>\n",
       "      <th>Denominations</th>\n",
       "      <th>Issue Branch Code</th>\n",
       "      <th>Issue Teller</th>\n",
       "      <th>Status</th>\n",
       "    </tr>\n",
       "    <tr>\n",
       "      <th>Sr No.</th>\n",
       "      <th></th>\n",
       "      <th></th>\n",
       "      <th></th>\n",
       "      <th></th>\n",
       "      <th></th>\n",
       "      <th></th>\n",
       "      <th></th>\n",
       "      <th></th>\n",
       "      <th></th>\n",
       "      <th></th>\n",
       "      <th></th>\n",
       "    </tr>\n",
       "  </thead>\n",
       "  <tbody>\n",
       "    <tr>\n",
       "      <th>1</th>\n",
       "      <td>00001201904120000001166</td>\n",
       "      <td>2019-04-12 00:00:00</td>\n",
       "      <td>2019-04-12 00:00:00</td>\n",
       "      <td>2019-04-26 00:00:00</td>\n",
       "      <td>A B C INDIA LIMITED</td>\n",
       "      <td>TL</td>\n",
       "      <td>11448</td>\n",
       "      <td>1000000</td>\n",
       "      <td>1</td>\n",
       "      <td>5899230</td>\n",
       "      <td>Paid</td>\n",
       "    </tr>\n",
       "    <tr>\n",
       "      <th>2</th>\n",
       "      <td>00001201904120000001166</td>\n",
       "      <td>2019-04-12 00:00:00</td>\n",
       "      <td>2019-04-12 00:00:00</td>\n",
       "      <td>2019-04-26 00:00:00</td>\n",
       "      <td>A B C INDIA LIMITED</td>\n",
       "      <td>TL</td>\n",
       "      <td>11447</td>\n",
       "      <td>1000000</td>\n",
       "      <td>1</td>\n",
       "      <td>5899230</td>\n",
       "      <td>Paid</td>\n",
       "    </tr>\n",
       "    <tr>\n",
       "      <th>3</th>\n",
       "      <td>00001201904120000001166</td>\n",
       "      <td>2019-04-12 00:00:00</td>\n",
       "      <td>2019-04-12 00:00:00</td>\n",
       "      <td>2019-04-26 00:00:00</td>\n",
       "      <td>A B C INDIA LIMITED</td>\n",
       "      <td>TL</td>\n",
       "      <td>11441</td>\n",
       "      <td>1000000</td>\n",
       "      <td>1</td>\n",
       "      <td>5899230</td>\n",
       "      <td>Paid</td>\n",
       "    </tr>\n",
       "    <tr>\n",
       "      <th>4</th>\n",
       "      <td>00001201904120000001166</td>\n",
       "      <td>2019-04-12 00:00:00</td>\n",
       "      <td>2019-04-12 00:00:00</td>\n",
       "      <td>2019-04-26 00:00:00</td>\n",
       "      <td>A B C INDIA LIMITED</td>\n",
       "      <td>OL</td>\n",
       "      <td>1113</td>\n",
       "      <td>100000</td>\n",
       "      <td>1</td>\n",
       "      <td>5899230</td>\n",
       "      <td>Paid</td>\n",
       "    </tr>\n",
       "    <tr>\n",
       "      <th>5</th>\n",
       "      <td>00001201904120000001166</td>\n",
       "      <td>2019-04-12 00:00:00</td>\n",
       "      <td>2019-04-12 00:00:00</td>\n",
       "      <td>2019-04-26 00:00:00</td>\n",
       "      <td>A B C INDIA LIMITED</td>\n",
       "      <td>OL</td>\n",
       "      <td>1118</td>\n",
       "      <td>100000</td>\n",
       "      <td>1</td>\n",
       "      <td>5899230</td>\n",
       "      <td>Paid</td>\n",
       "    </tr>\n",
       "    <tr>\n",
       "      <th>...</th>\n",
       "      <td>...</td>\n",
       "      <td>...</td>\n",
       "      <td>...</td>\n",
       "      <td>...</td>\n",
       "      <td>...</td>\n",
       "      <td>...</td>\n",
       "      <td>...</td>\n",
       "      <td>...</td>\n",
       "      <td>...</td>\n",
       "      <td>...</td>\n",
       "      <td>...</td>\n",
       "    </tr>\n",
       "    <tr>\n",
       "      <th>18867</th>\n",
       "      <td>00001202401110000003729</td>\n",
       "      <td>2024-01-11 00:00:00</td>\n",
       "      <td>2024-01-11 00:00:00</td>\n",
       "      <td>2024-01-25 00:00:00</td>\n",
       "      <td>WESTWELL GASES PRIVATE LIMITED</td>\n",
       "      <td>OC</td>\n",
       "      <td>15695</td>\n",
       "      <td>10000000</td>\n",
       "      <td>1</td>\n",
       "      <td>5898161</td>\n",
       "      <td>Paid</td>\n",
       "    </tr>\n",
       "    <tr>\n",
       "      <th>18868</th>\n",
       "      <td>00001202401110000003729</td>\n",
       "      <td>2024-01-11 00:00:00</td>\n",
       "      <td>2024-01-11 00:00:00</td>\n",
       "      <td>2024-01-25 00:00:00</td>\n",
       "      <td>WESTWELL GASES PRIVATE LIMITED</td>\n",
       "      <td>OC</td>\n",
       "      <td>15693</td>\n",
       "      <td>10000000</td>\n",
       "      <td>1</td>\n",
       "      <td>5898161</td>\n",
       "      <td>Paid</td>\n",
       "    </tr>\n",
       "    <tr>\n",
       "      <th>18869</th>\n",
       "      <td>00001202401110000003729</td>\n",
       "      <td>2024-01-11 00:00:00</td>\n",
       "      <td>2024-01-11 00:00:00</td>\n",
       "      <td>2024-01-25 00:00:00</td>\n",
       "      <td>WESTWELL GASES PRIVATE LIMITED</td>\n",
       "      <td>OC</td>\n",
       "      <td>15697</td>\n",
       "      <td>10000000</td>\n",
       "      <td>1</td>\n",
       "      <td>5898161</td>\n",
       "      <td>Paid</td>\n",
       "    </tr>\n",
       "    <tr>\n",
       "      <th>18870</th>\n",
       "      <td>00001202401110000003729</td>\n",
       "      <td>2024-01-11 00:00:00</td>\n",
       "      <td>2024-01-11 00:00:00</td>\n",
       "      <td>2024-01-25 00:00:00</td>\n",
       "      <td>WESTWELL GASES PRIVATE LIMITED</td>\n",
       "      <td>OC</td>\n",
       "      <td>17803</td>\n",
       "      <td>10000000</td>\n",
       "      <td>1</td>\n",
       "      <td>5898161</td>\n",
       "      <td>Paid</td>\n",
       "    </tr>\n",
       "    <tr>\n",
       "      <th>18871</th>\n",
       "      <td>00001202401110000003729</td>\n",
       "      <td>2024-01-11 00:00:00</td>\n",
       "      <td>2024-01-11 00:00:00</td>\n",
       "      <td>2024-01-25 00:00:00</td>\n",
       "      <td>WESTWELL GASES PRIVATE LIMITED</td>\n",
       "      <td>OC</td>\n",
       "      <td>15691</td>\n",
       "      <td>10000000</td>\n",
       "      <td>1</td>\n",
       "      <td>5898161</td>\n",
       "      <td>Paid</td>\n",
       "    </tr>\n",
       "  </tbody>\n",
       "</table>\n",
       "<p>18871 rows × 11 columns</p>\n",
       "</div>"
      ],
      "text/plain": [
       "            Reference No  (URN)         Journal Date     Date of Purchase  \\\n",
       "Sr No.                                                                      \n",
       "1       00001201904120000001166  2019-04-12 00:00:00  2019-04-12 00:00:00   \n",
       "2       00001201904120000001166  2019-04-12 00:00:00  2019-04-12 00:00:00   \n",
       "3       00001201904120000001166  2019-04-12 00:00:00  2019-04-12 00:00:00   \n",
       "4       00001201904120000001166  2019-04-12 00:00:00  2019-04-12 00:00:00   \n",
       "5       00001201904120000001166  2019-04-12 00:00:00  2019-04-12 00:00:00   \n",
       "...                         ...                  ...                  ...   \n",
       "18867   00001202401110000003729  2024-01-11 00:00:00  2024-01-11 00:00:00   \n",
       "18868   00001202401110000003729  2024-01-11 00:00:00  2024-01-11 00:00:00   \n",
       "18869   00001202401110000003729  2024-01-11 00:00:00  2024-01-11 00:00:00   \n",
       "18870   00001202401110000003729  2024-01-11 00:00:00  2024-01-11 00:00:00   \n",
       "18871   00001202401110000003729  2024-01-11 00:00:00  2024-01-11 00:00:00   \n",
       "\n",
       "             Date of Expiry           Name of the Purchaser Prefix  \\\n",
       "Sr No.                                                               \n",
       "1       2019-04-26 00:00:00             A B C INDIA LIMITED     TL   \n",
       "2       2019-04-26 00:00:00             A B C INDIA LIMITED     TL   \n",
       "3       2019-04-26 00:00:00             A B C INDIA LIMITED     TL   \n",
       "4       2019-04-26 00:00:00             A B C INDIA LIMITED     OL   \n",
       "5       2019-04-26 00:00:00             A B C INDIA LIMITED     OL   \n",
       "...                     ...                             ...    ...   \n",
       "18867   2024-01-25 00:00:00  WESTWELL GASES PRIVATE LIMITED     OC   \n",
       "18868   2024-01-25 00:00:00  WESTWELL GASES PRIVATE LIMITED     OC   \n",
       "18869   2024-01-25 00:00:00  WESTWELL GASES PRIVATE LIMITED     OC   \n",
       "18870   2024-01-25 00:00:00  WESTWELL GASES PRIVATE LIMITED     OC   \n",
       "18871   2024-01-25 00:00:00  WESTWELL GASES PRIVATE LIMITED     OC   \n",
       "\n",
       "        Bond Number  Denominations  Issue Branch Code  Issue Teller Status  \n",
       "Sr No.                                                                      \n",
       "1             11448        1000000                  1       5899230   Paid  \n",
       "2             11447        1000000                  1       5899230   Paid  \n",
       "3             11441        1000000                  1       5899230   Paid  \n",
       "4              1113         100000                  1       5899230   Paid  \n",
       "5              1118         100000                  1       5899230   Paid  \n",
       "...             ...            ...                ...           ...    ...  \n",
       "18867         15695       10000000                  1       5898161   Paid  \n",
       "18868         15693       10000000                  1       5898161   Paid  \n",
       "18869         15697       10000000                  1       5898161   Paid  \n",
       "18870         17803       10000000                  1       5898161   Paid  \n",
       "18871         15691       10000000                  1       5898161   Paid  \n",
       "\n",
       "[18871 rows x 11 columns]"
      ]
     },
     "execution_count": 14,
     "metadata": {},
     "output_type": "execute_result"
    }
   ],
   "source": [
    "bond_buyers = pd.read_csv(\"../data/bond_buyers.csv\", index_col=\"Sr No.\")\n",
    "bond_buyers"
   ]
  },
  {
   "cell_type": "markdown",
   "id": "2734ef27-4ea7-453b-a43d-036b8a2cf1cf",
   "metadata": {},
   "source": [
    "# Loading bond recipients (political parties) data "
   ]
  },
  {
   "cell_type": "code",
   "execution_count": 3,
   "id": "485209f7-a215-4b66-8f79-588688eccd7b",
   "metadata": {},
   "outputs": [
    {
     "data": {
      "text/html": [
       "<div>\n",
       "<style scoped>\n",
       "    .dataframe tbody tr th:only-of-type {\n",
       "        vertical-align: middle;\n",
       "    }\n",
       "\n",
       "    .dataframe tbody tr th {\n",
       "        vertical-align: top;\n",
       "    }\n",
       "\n",
       "    .dataframe thead th {\n",
       "        text-align: right;\n",
       "    }\n",
       "</style>\n",
       "<table border=\"1\" class=\"dataframe\">\n",
       "  <thead>\n",
       "    <tr style=\"text-align: right;\">\n",
       "      <th></th>\n",
       "      <th>Date of Encashment</th>\n",
       "      <th>Name of the Political Party</th>\n",
       "      <th>Account no. of Political Party</th>\n",
       "      <th>Prefix</th>\n",
       "      <th>Bond Number</th>\n",
       "      <th>Denominations</th>\n",
       "      <th>Pay Branch Code</th>\n",
       "      <th>Pay Teller</th>\n",
       "    </tr>\n",
       "    <tr>\n",
       "      <th>Sr No.</th>\n",
       "      <th></th>\n",
       "      <th></th>\n",
       "      <th></th>\n",
       "      <th></th>\n",
       "      <th></th>\n",
       "      <th></th>\n",
       "      <th></th>\n",
       "      <th></th>\n",
       "    </tr>\n",
       "  </thead>\n",
       "  <tbody>\n",
       "    <tr>\n",
       "      <th>1</th>\n",
       "      <td>2019-04-12 00:00:00</td>\n",
       "      <td>ALL INDIA ANNA DRAVIDA MUNNETRA KAZHAGAM</td>\n",
       "      <td>*******5199</td>\n",
       "      <td>OC</td>\n",
       "      <td>775</td>\n",
       "      <td>10000000</td>\n",
       "      <td>800</td>\n",
       "      <td>2770121</td>\n",
       "    </tr>\n",
       "    <tr>\n",
       "      <th>2</th>\n",
       "      <td>2019-04-12 00:00:00</td>\n",
       "      <td>ALL INDIA ANNA DRAVIDA MUNNETRA KAZHAGAM</td>\n",
       "      <td>*******5199</td>\n",
       "      <td>OC</td>\n",
       "      <td>3975</td>\n",
       "      <td>10000000</td>\n",
       "      <td>800</td>\n",
       "      <td>2770121</td>\n",
       "    </tr>\n",
       "    <tr>\n",
       "      <th>3</th>\n",
       "      <td>2019-04-12 00:00:00</td>\n",
       "      <td>ALL INDIA ANNA DRAVIDA MUNNETRA KAZHAGAM</td>\n",
       "      <td>*******5199</td>\n",
       "      <td>OC</td>\n",
       "      <td>3967</td>\n",
       "      <td>10000000</td>\n",
       "      <td>800</td>\n",
       "      <td>2770121</td>\n",
       "    </tr>\n",
       "    <tr>\n",
       "      <th>4</th>\n",
       "      <td>2019-04-12 00:00:00</td>\n",
       "      <td>ALL INDIA ANNA DRAVIDA MUNNETRA KAZHAGAM</td>\n",
       "      <td>*******5199</td>\n",
       "      <td>TL</td>\n",
       "      <td>10418</td>\n",
       "      <td>1000000</td>\n",
       "      <td>800</td>\n",
       "      <td>2770121</td>\n",
       "    </tr>\n",
       "    <tr>\n",
       "      <th>5</th>\n",
       "      <td>2019-04-12 00:00:00</td>\n",
       "      <td>ALL INDIA ANNA DRAVIDA MUNNETRA KAZHAGAM</td>\n",
       "      <td>*******5199</td>\n",
       "      <td>TL</td>\n",
       "      <td>126</td>\n",
       "      <td>1000000</td>\n",
       "      <td>800</td>\n",
       "      <td>2770121</td>\n",
       "    </tr>\n",
       "    <tr>\n",
       "      <th>...</th>\n",
       "      <td>...</td>\n",
       "      <td>...</td>\n",
       "      <td>...</td>\n",
       "      <td>...</td>\n",
       "      <td>...</td>\n",
       "      <td>...</td>\n",
       "      <td>...</td>\n",
       "      <td>...</td>\n",
       "    </tr>\n",
       "    <tr>\n",
       "      <th>20417</th>\n",
       "      <td>2024-01-24 00:00:00</td>\n",
       "      <td>JANASENA PARTY</td>\n",
       "      <td>*******3929</td>\n",
       "      <td>TL</td>\n",
       "      <td>2619</td>\n",
       "      <td>1000000</td>\n",
       "      <td>847</td>\n",
       "      <td>7620160</td>\n",
       "    </tr>\n",
       "    <tr>\n",
       "      <th>20418</th>\n",
       "      <td>2024-01-24 00:00:00</td>\n",
       "      <td>JANASENA PARTY</td>\n",
       "      <td>*******3929</td>\n",
       "      <td>TL</td>\n",
       "      <td>2608</td>\n",
       "      <td>1000000</td>\n",
       "      <td>847</td>\n",
       "      <td>7620160</td>\n",
       "    </tr>\n",
       "    <tr>\n",
       "      <th>20419</th>\n",
       "      <td>2024-01-24 00:00:00</td>\n",
       "      <td>JANASENA PARTY</td>\n",
       "      <td>*******3929</td>\n",
       "      <td>TL</td>\n",
       "      <td>2633</td>\n",
       "      <td>1000000</td>\n",
       "      <td>847</td>\n",
       "      <td>7620160</td>\n",
       "    </tr>\n",
       "    <tr>\n",
       "      <th>20420</th>\n",
       "      <td>2024-01-24 00:00:00</td>\n",
       "      <td>JANASENA PARTY</td>\n",
       "      <td>*******3929</td>\n",
       "      <td>TL</td>\n",
       "      <td>2627</td>\n",
       "      <td>1000000</td>\n",
       "      <td>847</td>\n",
       "      <td>7620160</td>\n",
       "    </tr>\n",
       "    <tr>\n",
       "      <th>20421</th>\n",
       "      <td>2024-01-24 00:00:00</td>\n",
       "      <td>JANASENA PARTY</td>\n",
       "      <td>*******3929</td>\n",
       "      <td>TL</td>\n",
       "      <td>2631</td>\n",
       "      <td>1000000</td>\n",
       "      <td>847</td>\n",
       "      <td>7620160</td>\n",
       "    </tr>\n",
       "  </tbody>\n",
       "</table>\n",
       "<p>20421 rows × 8 columns</p>\n",
       "</div>"
      ],
      "text/plain": [
       "         Date of Encashment               Name of the Political Party  \\\n",
       "Sr No.                                                                  \n",
       "1       2019-04-12 00:00:00  ALL INDIA ANNA DRAVIDA MUNNETRA KAZHAGAM   \n",
       "2       2019-04-12 00:00:00  ALL INDIA ANNA DRAVIDA MUNNETRA KAZHAGAM   \n",
       "3       2019-04-12 00:00:00  ALL INDIA ANNA DRAVIDA MUNNETRA KAZHAGAM   \n",
       "4       2019-04-12 00:00:00  ALL INDIA ANNA DRAVIDA MUNNETRA KAZHAGAM   \n",
       "5       2019-04-12 00:00:00  ALL INDIA ANNA DRAVIDA MUNNETRA KAZHAGAM   \n",
       "...                     ...                                       ...   \n",
       "20417   2024-01-24 00:00:00                            JANASENA PARTY   \n",
       "20418   2024-01-24 00:00:00                            JANASENA PARTY   \n",
       "20419   2024-01-24 00:00:00                            JANASENA PARTY   \n",
       "20420   2024-01-24 00:00:00                            JANASENA PARTY   \n",
       "20421   2024-01-24 00:00:00                            JANASENA PARTY   \n",
       "\n",
       "       Account no. of Political Party Prefix  Bond Number  Denominations  \\\n",
       "Sr No.                                                                     \n",
       "1                         *******5199     OC          775       10000000   \n",
       "2                         *******5199     OC         3975       10000000   \n",
       "3                         *******5199     OC         3967       10000000   \n",
       "4                         *******5199     TL        10418        1000000   \n",
       "5                         *******5199     TL          126        1000000   \n",
       "...                               ...    ...          ...            ...   \n",
       "20417                     *******3929     TL         2619        1000000   \n",
       "20418                     *******3929     TL         2608        1000000   \n",
       "20419                     *******3929     TL         2633        1000000   \n",
       "20420                     *******3929     TL         2627        1000000   \n",
       "20421                     *******3929     TL         2631        1000000   \n",
       "\n",
       "        Pay Branch Code  Pay Teller  \n",
       "Sr No.                               \n",
       "1                   800     2770121  \n",
       "2                   800     2770121  \n",
       "3                   800     2770121  \n",
       "4                   800     2770121  \n",
       "5                   800     2770121  \n",
       "...                 ...         ...  \n",
       "20417               847     7620160  \n",
       "20418               847     7620160  \n",
       "20419               847     7620160  \n",
       "20420               847     7620160  \n",
       "20421               847     7620160  \n",
       "\n",
       "[20421 rows x 8 columns]"
      ]
     },
     "execution_count": 3,
     "metadata": {},
     "output_type": "execute_result"
    }
   ],
   "source": [
    "bond_recipients = pd.read_csv(\"../data/bond_recipients.csv\", index_col=\"Sr No.\")\n",
    "bond_recipients"
   ]
  },
  {
   "cell_type": "markdown",
   "id": "28c7bfb7-8f06-4501-817a-462b44157cab",
   "metadata": {},
   "source": [
    "# Plotting the top buyers"
   ]
  },
  {
   "cell_type": "code",
   "execution_count": 15,
   "id": "263d1c64-7ac9-4832-be52-8bc8ec44bdc9",
   "metadata": {},
   "outputs": [],
   "source": [
    "top_10_buyers = bond_buyers.groupby([\"Name of the Purchaser\"])[\"Denominations\"].sum().nlargest(10)\n",
    "top_10_buyers[\"OTHERS\"] = bond_buyers[\"Denominations\"].sum() - top_10_buyers.sum()\n",
    "\n",
    "\n",
    "fig = go.Figure(\n",
    "    data=[go.Pie(values=top_10_buyers.values, labels=list(top_10_buyers.index),\n",
    "                )],\n",
    "    layout_title_text=\"Percentage of donations given by each buyer\"\n",
    ")\n",
    "fig.show()"
   ]
  },
  {
   "cell_type": "markdown",
   "id": "30f5a87b-7534-47bb-b8ff-af71313ddea4",
   "metadata": {},
   "source": [
    "# Top parties who cashed the bonds"
   ]
  },
  {
   "cell_type": "code",
   "execution_count": 20,
   "id": "9f1f7789-e677-4a5a-8fec-2fe85c738d8a",
   "metadata": {},
   "outputs": [],
   "source": [
    "top_7_recipients = bond_recipients.groupby([\"Name of the Political Party\"])[\"Denominations\"].sum().nlargest(7)\n",
    "top_7_recipients[\"OTHERS\"] = bond_recipients[\"Denominations\"].sum() - top_7_recipients.sum()\n",
    "\n",
    "\n",
    "fig = go.Figure(\n",
    "    data=[go.Pie(values=top_7_recipients.values, labels=list(top_7_recipients.index),\n",
    "                )],\n",
    "    layout_title_text=\"Percentage of bonds cashed by each party\"\n",
    ")\n",
    "fig.show()\n"
   ]
  },
  {
   "cell_type": "markdown",
   "id": "2b3eee7b-3706-4606-beb0-0f054a920f49",
   "metadata": {},
   "source": [
    "# Total value of bonds cashed by each party"
   ]
  },
  {
   "cell_type": "code",
   "execution_count": 21,
   "id": "cf6fce67-0d37-4219-91e3-8b5715eaaa77",
   "metadata": {
    "scrolled": true
   },
   "outputs": [],
   "source": [
    "\n",
    "fig = go.Figure(\n",
    "    data=[go.Bar(x=list(bond_recipients.groupby([\"Name of the Political Party\"]).groups.keys()), y=bond_recipients.groupby([\"Name of the Political Party\"])[\"Denominations\"].sum())],\n",
    "    layout_title_text=\"Total bonds cashed by each political party\"\n",
    ")\n",
    "fig.update_layout(yaxis_title=\"Total value in Rupee cashed by each party\")\n",
    "fig.show()\n"
   ]
  },
  {
   "cell_type": "markdown",
   "id": "da355f13-d4d4-42eb-92ca-07c765dec4ce",
   "metadata": {},
   "source": [
    "# Timeline of bond purchases and cashing"
   ]
  },
  {
   "cell_type": "code",
   "execution_count": 28,
   "id": "da00cbf4-efd8-4e79-8617-c32e1daa03ed",
   "metadata": {},
   "outputs": [
    {
     "data": {
      "text/plain": [
       "Index(['Date of Encashment', 'Name of the Political Party',\n",
       "       'Account no. of Political Party', 'Prefix', 'Bond Number',\n",
       "       'Denominations', 'Pay Branch Code', 'Pay Teller'],\n",
       "      dtype='object')"
      ]
     },
     "execution_count": 28,
     "metadata": {},
     "output_type": "execute_result"
    }
   ],
   "source": [
    "bond_recipients.columns"
   ]
  },
  {
   "cell_type": "markdown",
   "id": "4962f05d-e49b-4a01-b77f-930f3e998d93",
   "metadata": {},
   "source": [
    "# Timeline of bond buying and cashing\n",
    "\n",
    "The graph below shows an anomaly in the April of 2019 where the bonds bought were about half of the bonds cashed. Don't whether that is deliberate or some data collection mistake."
   ]
  },
  {
   "cell_type": "code",
   "execution_count": null,
   "id": "7b7add4f-8e79-43ae-a23c-1843263c3deb",
   "metadata": {},
   "outputs": [],
   "source": []
  },
  {
   "cell_type": "code",
   "execution_count": null,
   "id": "df455c53-55ca-4ae4-9d8e-3068b9a8fc2e",
   "metadata": {},
   "outputs": [],
   "source": [
    "bond_recipients['Date of Encashment'] = pd.to_datetime(bond_recipients['Date of Encashment']) \n",
    "bond_cashing_timeline = bond_recipients.groupby([\"Date of Encashment\"])[\"Denominations\"].sum().resample(\"ME\").sum()\n",
    "\n",
    "bond_buyers[\"Date of Purchase\"] = pd.to_datetime(bond_buyers[\"Date of Purchase\"])\n",
    "bond_buying_timeline = bond_buyers.groupby([\"Date of Purchase\"])[\"Denominations\"].sum().resample(\"ME\").sum()\n",
    "\n",
    "\n",
    "fig = go.Figure(\n",
    "    data=[go.Bar(x=bond_buying_timeline.index, y=bond_buying_timeline.values, name=\"bond buying time\"), \n",
    "          go.Bar(x=bond_cashing_timeline.index, y=bond_cashing_timeline.values, name=\"bond cashing time\")],\n",
    "    layout_title_text=\"Timeline of bond buying and cashing\"\n",
    ")\n",
    "\n",
    "fig.show()"
   ]
  },
  {
   "cell_type": "markdown",
   "id": "6783c103-9bc2-4745-b83d-7bb32ecabf9d",
   "metadata": {},
   "source": [
    "# The column bond number\n",
    "\n",
    "The number in bond number column is not unique. One would have otherwise assumed that you could match the bond numbers in the two lists and figure out which doner donated to which party. But I guess that is not the case."
   ]
  },
  {
   "cell_type": "code",
   "execution_count": 35,
   "id": "ea525707-328f-415c-98f0-45fd75b3ac03",
   "metadata": {},
   "outputs": [
    {
     "data": {
      "text/plain": [
       "Index(['Date of Encashment', 'Name of the Political Party',\n",
       "       'Account no. of Political Party', 'Prefix', 'Bond Number',\n",
       "       'Denominations', 'Pay Branch Code', 'Pay Teller'],\n",
       "      dtype='object')"
      ]
     },
     "execution_count": 35,
     "metadata": {},
     "output_type": "execute_result"
    }
   ],
   "source": [
    "bond_recipients.columns"
   ]
  },
  {
   "cell_type": "code",
   "execution_count": 36,
   "id": "ed12d802-1572-4a48-b2c7-f57fb6ccb9b5",
   "metadata": {},
   "outputs": [
    {
     "data": {
      "text/plain": [
       "(20421, 15296)"
      ]
     },
     "execution_count": 36,
     "metadata": {},
     "output_type": "execute_result"
    }
   ],
   "source": [
    "len(bond_recipients[\"Bond Number\"]), len(bond_recipients[\"Bond Number\"].unique())"
   ]
  },
  {
   "cell_type": "code",
   "execution_count": 37,
   "id": "1ad1da8a-437e-4ee1-915e-3f98fa398b42",
   "metadata": {},
   "outputs": [
    {
     "data": {
      "text/plain": [
       "(18871, 14491)"
      ]
     },
     "execution_count": 37,
     "metadata": {},
     "output_type": "execute_result"
    }
   ],
   "source": [
    "len(bond_buyers[\"Bond Number\"]), len(bond_buyers[\"Bond Number\"].unique())"
   ]
  },
  {
   "cell_type": "markdown",
   "id": "df84c2fc-35fb-44c3-998c-f5d44f0017d0",
   "metadata": {},
   "source": [
    "# How is that possible!!!?\n",
    "\n",
    "Also, the data shows that almost 60 crores worth more bonds were cashed than they were bought"
   ]
  },
  {
   "cell_type": "code",
   "execution_count": 40,
   "id": "910713d0-399e-4f2d-bb1c-68eac23d4de3",
   "metadata": {},
   "outputs": [
    {
     "data": {
      "text/plain": [
       "(121555132000, 127690893000)"
      ]
     },
     "execution_count": 40,
     "metadata": {},
     "output_type": "execute_result"
    }
   ],
   "source": [
    "bond_buyers[\"Denominations\"].sum(), bond_recipients[\"Denominations\"].sum()"
   ]
  },
  {
   "cell_type": "code",
   "execution_count": 41,
   "id": "49360358-4e09-4303-adbe-3d33191473fb",
   "metadata": {},
   "outputs": [
    {
     "data": {
      "text/plain": [
       "6135761000"
      ]
     },
     "execution_count": 41,
     "metadata": {},
     "output_type": "execute_result"
    }
   ],
   "source": [
    "bond_recipients[\"Denominations\"].sum() - bond_buyers[\"Denominations\"].sum()"
   ]
  }
 ],
 "metadata": {
  "kernelspec": {
   "display_name": "Python 3 (ipykernel)",
   "language": "python",
   "name": "python3"
  },
  "language_info": {
   "codemirror_mode": {
    "name": "ipython",
    "version": 3
   },
   "file_extension": ".py",
   "mimetype": "text/x-python",
   "name": "python",
   "nbconvert_exporter": "python",
   "pygments_lexer": "ipython3",
   "version": "3.9.6"
  }
 },
 "nbformat": 4,
 "nbformat_minor": 5
}
